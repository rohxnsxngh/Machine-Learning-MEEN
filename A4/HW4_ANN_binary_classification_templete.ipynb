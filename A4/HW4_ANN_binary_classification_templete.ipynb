{
 "cells": [
  {
   "cell_type": "markdown",
   "id": "03d2673c-0470-424b-aed5-341183497d51",
   "metadata": {},
   "source": [
    "# **MEEN 423: Machine Learning for Mechanical Engineers**\n",
    "# Homework 4: Binary classification with Artificial Neural Networks"
   ]
  },
  {
   "cell_type": "markdown",
   "id": "dfedbbb2-a7ef-4bc7-b5c7-51b1e21d2beb",
   "metadata": {},
   "source": [
    "## Objective"
   ]
  },
  {
   "cell_type": "markdown",
   "id": "38d70adc-5bb9-48e8-9c6b-03924185b26d",
   "metadata": {},
   "source": [
    "Train a binary classifier using an ANN to understand its performance and characteristics. Analyze and visualize the dataset, train different models, evaluate their performance, and draw insights from various metrics and visualizations."
   ]
  },
  {
   "cell_type": "markdown",
   "id": "29f5210a-3d23-4256-adb2-5eabdd34977b",
   "metadata": {},
   "source": [
    "## Background"
   ]
  },
  {
   "cell_type": "markdown",
   "id": "8ac67c81-be4f-4c23-be2a-88cfca0f5cc5",
   "metadata": {},
   "source": [
    "In a power generation plant, turbine blades are critical components for generating electricity. These blades convert the energy from steam into mechanical energy that drives the generator. However, over time, the turbine blades are subjected to extreme conditions leading to wear, corrosion, and other forms of degradation.\n",
    "\n",
    "In this dataset, we have sensor readings from a number of turbine blades. Two features are particularly significant:\n",
    "\n",
    "    * Vibration Frequency (Hz): This is measured by a vibration sensor attached to the base of each turbine blade.\n",
    "    * Temperature (°C): This is measured by a temperature sensor embedded within the blade.\n",
    "\n",
    "Each blade has a label:\n",
    "\n",
    "    * 1(True): Indicates that the blade has a defect\n",
    "    * 0(False): Indicates that the blade is in normal condition.\n",
    "\n",
    "Detecting defective blades early is crucial to ensure the efficiency, safety, and longevity of the power plant. Your task is to develop a classifier to identify potentially defected turbine blades based on these two sensor readings."
   ]
  },
  {
   "cell_type": "markdown",
   "id": "6aa01186-73b3-42d1-b03e-7ed6e16d4937",
   "metadata": {},
   "source": [
    "## Tasks"
   ]
  },
  {
   "cell_type": "markdown",
   "id": "504d3117-406b-45dc-9985-0019a0a20296",
   "metadata": {},
   "source": [
    "### 1. Data Visualization"
   ]
  },
  {
   "cell_type": "markdown",
   "id": "9a7ced8b-5646-4a5f-bb5b-1d3cd5bf4086",
   "metadata": {},
   "source": [
    "#### A. Plot the dataset with vibration frequency on the x-axis and temperature on the y-axis. Use different markers or colors to distinguish between normal and defected components."
   ]
  },
  {
   "cell_type": "code",
   "execution_count": 17,
   "id": "30c8873b-5ca1-45be-b841-3ca51a4ff96d",
   "metadata": {},
   "outputs": [],
   "source": [
    "# write code to load dataset and visulize data"
   ]
  },
  {
   "cell_type": "markdown",
   "id": "2bb9df6d-b4b5-4e83-814f-41f435d3fd12",
   "metadata": {},
   "source": [
    "#### B. What are your observations regarding the distribution of classes? Identify if the dataset is balanced or imbalanced."
   ]
  },
  {
   "cell_type": "markdown",
   "id": "92a4d8f2-05eb-42c5-baf9-0a41a6bfc2cf",
   "metadata": {},
   "source": [
    "**Answer:** "
   ]
  },
  {
   "cell_type": "markdown",
   "id": "0fa9dee7-96c4-4a8f-993b-b9f14f40cda9",
   "metadata": {},
   "source": [
    "### 2. Data Splitting, Pre-processing and Model Training:"
   ]
  },
  {
   "cell_type": "markdown",
   "id": "cab9cd6c-46eb-45a1-91fc-1e9a172e622c",
   "metadata": {},
   "source": [
    "#### A. Split the dataset into 60% training, 20% validation, and 20% testing.\n",
    "#### B. Train an ANN with 2 hidden layers of 20 neurons each.\n",
    "#### C. Use ReLU activation for hidden layers and sigmoid activation for the output layer.\n",
    "#### D. Train models with L2 regularization coefficients of 0, 0.01, and 1.\n"
   ]
  },
  {
   "cell_type": "code",
   "execution_count": 18,
   "id": "cac0d395-2351-4d41-9187-a5e4bdd8aeba",
   "metadata": {},
   "outputs": [],
   "source": [
    "# write code to build and train ANN using tensorflow.keras "
   ]
  },
  {
   "cell_type": "markdown",
   "id": "a7a8ea42-f762-49c8-a8dd-8c8d6dfe62ca",
   "metadata": {},
   "source": [
    "### 3. Compute Accuracy"
   ]
  },
  {
   "cell_type": "markdown",
   "id": "28f49f21-4f03-42fc-9612-5c9a8873c7c0",
   "metadata": {},
   "source": [
    "#### A. Compute the accuracy for all models on validation dataset using the default threshold probability of 0.5."
   ]
  },
  {
   "cell_type": "code",
   "execution_count": 15,
   "id": "57e468ae-08ba-45af-9ee2-a29cab0ed295",
   "metadata": {},
   "outputs": [],
   "source": [
    "# write code to compute accuracy"
   ]
  },
  {
   "cell_type": "markdown",
   "id": "342c7e67-737d-48b4-bc6e-b48b94dc25df",
   "metadata": {},
   "source": [
    "#### B. Based on accuracy, which models are performing well and which are not?"
   ]
  },
  {
   "cell_type": "markdown",
   "id": "5ec8ce53-3e0d-4f09-944b-2735bb25c8f1",
   "metadata": {},
   "source": [
    "**Answer:** "
   ]
  },
  {
   "cell_type": "markdown",
   "id": "b3b57c77-57af-4255-8015-bed154c301b2",
   "metadata": {},
   "source": [
    "#### C. Can accuracy be a sole metric for evaluating the model's performance? Why?"
   ]
  },
  {
   "cell_type": "markdown",
   "id": "2e1b93c1-2107-4058-ab4b-61f58aedc2f6",
   "metadata": {},
   "source": [
    "**Answer:** "
   ]
  },
  {
   "cell_type": "markdown",
   "id": "b8041edf-af4a-4687-965b-b02baed26508",
   "metadata": {},
   "source": [
    "### 4. Loss and accuracy vs Epoch Visualization"
   ]
  },
  {
   "cell_type": "markdown",
   "id": "42b1979b-8a88-41a4-b1c5-e440f824def2",
   "metadata": {},
   "source": [
    "#### A. Plot the loss and accuracy vs epoch for both training and validation sets."
   ]
  },
  {
   "cell_type": "code",
   "execution_count": 16,
   "id": "37be4f14-983b-4f56-b408-4af6f44dae68",
   "metadata": {},
   "outputs": [],
   "source": [
    "# write code to plot loss and accuracy vs epoch"
   ]
  },
  {
   "cell_type": "markdown",
   "id": "cd1a9235-0f1f-475f-b1f0-eb8f1957f033",
   "metadata": {},
   "source": [
    "#### B. Which models are performing well based on these plots, and which are not? Justify your answer."
   ]
  },
  {
   "cell_type": "markdown",
   "id": "339ae17b-7414-463c-b3da-413a63b85cfa",
   "metadata": {},
   "source": [
    "**Answer:** "
   ]
  },
  {
   "cell_type": "markdown",
   "id": "83dbacea-fe12-4d63-aa18-10cbf67e2051",
   "metadata": {},
   "source": [
    "### 5. Compute ROC-AUC"
   ]
  },
  {
   "cell_type": "markdown",
   "id": "84837ca3-db0c-404c-9d0a-1d08c3750610",
   "metadata": {},
   "source": [
    "#### A. Use sklearn.metrics to get Receiver Operating Characteristic (ROC) curve and plot it, then compute the Area Under the Curve (AUC) value for each model."
   ]
  },
  {
   "cell_type": "code",
   "execution_count": 19,
   "id": "2515e7f9-41a6-4577-8a5e-67f3cf61c4d0",
   "metadata": {},
   "outputs": [],
   "source": [
    "# write code to compute ROC"
   ]
  },
  {
   "cell_type": "markdown",
   "id": "423f4a6f-92c5-4386-b150-255ba1cea076",
   "metadata": {},
   "source": [
    "#### B. How does the ROC-AUC score correlate with the model's ability to distinguish between the classes?"
   ]
  },
  {
   "cell_type": "markdown",
   "id": "5f6332e4-f171-4f21-b514-47d2b6cae9d6",
   "metadata": {},
   "source": [
    "**Answer:** "
   ]
  },
  {
   "cell_type": "markdown",
   "id": "909db480-32e0-49a7-b950-815eb3f09187",
   "metadata": {},
   "source": [
    "#### C. Which models, according to the ROC-AUC score, are acceptable, and why?"
   ]
  },
  {
   "cell_type": "markdown",
   "id": "17093668-3839-46a8-bc8f-f10bf85ff955",
   "metadata": {},
   "source": [
    "**Answer**: "
   ]
  },
  {
   "cell_type": "markdown",
   "id": "cc30ac5e-4eef-40ba-a546-334ffbb39d87",
   "metadata": {},
   "source": [
    "### 6. Compute other metrics\n",
    "\n",
    "Use sklearn.metrics to compute the metrics: accuracy, F1-Score, specificity, balanced accuracy, precision, recall, and confusion matrix for each model. Please use the default threshold probability 0.5. What observations can you make based on the computed metrics?"
   ]
  },
  {
   "cell_type": "code",
   "execution_count": 20,
   "id": "38cf20c4-e956-46b1-839e-2f90544a3890",
   "metadata": {},
   "outputs": [],
   "source": [
    "# write code to compute other metrics"
   ]
  },
  {
   "cell_type": "markdown",
   "id": "b74b244e-b702-4656-9af6-99f26b736b96",
   "metadata": {},
   "source": [
    "**Answer:** "
   ]
  },
  {
   "cell_type": "markdown",
   "id": "4ec736b0-87b2-448a-a5fe-b4163020f2f4",
   "metadata": {},
   "source": [
    "### 7. Decision Boundary Visualization"
   ]
  },
  {
   "cell_type": "markdown",
   "id": "4440e98e-6391-4b20-9632-5233686dd96d",
   "metadata": {},
   "source": [
    "#### A. Plot the decision boundaries for the trained models on training dataset"
   ]
  },
  {
   "cell_type": "code",
   "execution_count": 21,
   "id": "100d7b65-25f6-40dc-bdf7-3f3701b73b64",
   "metadata": {},
   "outputs": [],
   "source": [
    "# write code to plot decision boundary"
   ]
  },
  {
   "cell_type": "markdown",
   "id": "ee39685a-df97-4cfe-b2a4-4e16d2186b8d",
   "metadata": {},
   "source": [
    "#### B. Explain your observations and relate them with the computed evaluation metrics."
   ]
  },
  {
   "cell_type": "markdown",
   "id": "619edef1-6a34-4d42-a763-c825316472c4",
   "metadata": {},
   "source": [
    "**Answer:** "
   ]
  },
  {
   "cell_type": "markdown",
   "id": "78dd8187-1df8-482c-8e3d-b20d88b1cafb",
   "metadata": {},
   "source": [
    "### 8. Model selection\n",
    "\n",
    "Based on step 3-7, which model will you select as your classifier?"
   ]
  },
  {
   "cell_type": "markdown",
   "id": "3049d557-611c-41d0-911b-5e68fc5394c8",
   "metadata": {},
   "source": [
    "**Answer:** "
   ]
  },
  {
   "cell_type": "markdown",
   "id": "1ac5ae86-908a-4f55-9cb7-8427a5baebd7",
   "metadata": {},
   "source": [
    "### 9. Threshold Selection"
   ]
  },
  {
   "cell_type": "markdown",
   "id": "6c6736fa-f13e-4568-8c9f-cb5cd7936755",
   "metadata": {},
   "source": [
    "#### A. For this problem, decide whether precision or recall is more critical. Justify your choice."
   ]
  },
  {
   "cell_type": "markdown",
   "id": "b0906bcc-a2cf-4d2a-8343-84c9a3a66060",
   "metadata": {},
   "source": [
    "**Answer:** "
   ]
  },
  {
   "cell_type": "markdown",
   "id": "414a3144-447e-4d77-86d3-b4f844a6fccb",
   "metadata": {},
   "source": [
    "#### B. Utilizing your chosen model, generate a plot for the Precision-Recall curve. How do precision and recall values change relative to each other?"
   ]
  },
  {
   "cell_type": "code",
   "execution_count": 22,
   "id": "f95b132b-bbc6-4933-8c58-6285e6a1854e",
   "metadata": {},
   "outputs": [],
   "source": [
    "# write code to plot precision-recall curve"
   ]
  },
  {
   "cell_type": "markdown",
   "id": "16893687-3738-4a71-9bdf-25f2610143b7",
   "metadata": {},
   "source": [
    "**Answer:** "
   ]
  },
  {
   "cell_type": "markdown",
   "id": "bcf13f90-964c-400a-adae-641481b1890d",
   "metadata": {},
   "source": [
    "#### C. Utilizing your chosen model, plot recall and precision as a function of the threshold value on the validation data. Use two y-axes to visualize precision and recall on the same plot."
   ]
  },
  {
   "cell_type": "code",
   "execution_count": 23,
   "id": "6beeb0ef-d0a4-4921-a71c-3ca5d38617be",
   "metadata": {},
   "outputs": [],
   "source": [
    "# write code to plot recall and precision vs threshold"
   ]
  },
  {
   "cell_type": "markdown",
   "id": "6ce89deb-982d-4c1d-bf69-6cd6738d93f6",
   "metadata": {},
   "source": [
    "#### D: Examine the effects of adjusting the threshold probability on the values of recall and precision. Specifically, analyze how increasing the threshold above 0.5 or decreasing it below 0.5 impacts these metrics. Discuss the implications of these adjustments for model performance and decision-making in the context of defect detection"
   ]
  },
  {
   "cell_type": "markdown",
   "id": "50b51b05-0aea-4767-9c1d-0b28f0fd6b88",
   "metadata": {},
   "source": [
    "**Answer:** "
   ]
  },
  {
   "cell_type": "markdown",
   "id": "5cbff467-2837-4c14-9043-45e060142e85",
   "metadata": {},
   "source": [
    "#### E. Use the plot generated in question C, and determine a threshold probability value for classification such that the chosen metric (either precision or recall) is equal or greater than 0.8 while keeping the other metric as high as possible. "
   ]
  },
  {
   "cell_type": "code",
   "execution_count": 24,
   "id": "79fadece-d094-444a-af64-531f4119a8d3",
   "metadata": {},
   "outputs": [],
   "source": [
    "# write code to find and print out the threshold"
   ]
  },
  {
   "cell_type": "markdown",
   "id": "17cb28b5-3045-4b66-bdc9-8bef36d10ff4",
   "metadata": {},
   "source": [
    "### 10. Final Evaluation"
   ]
  },
  {
   "cell_type": "markdown",
   "id": "0ac0e01a-7b21-4261-8502-bd5b04c0f190",
   "metadata": {},
   "source": [
    "#### A. Compute the recall and precision on the test data using the selected threshold value."
   ]
  },
  {
   "cell_type": "code",
   "execution_count": 25,
   "id": "78ff0886-5a54-47de-846c-4615d32f4281",
   "metadata": {},
   "outputs": [],
   "source": [
    "# write code to compute recall and precision on test dataset"
   ]
  },
  {
   "cell_type": "markdown",
   "id": "b9c76055-0100-4e97-893c-cf471ac8323b",
   "metadata": {},
   "source": [
    "#### B. Is the performance satisfactory? Discuss any potential improvements that could be made."
   ]
  },
  {
   "cell_type": "markdown",
   "id": "3078f06e-ae17-4de6-831b-8bc1bcca35b9",
   "metadata": {},
   "source": [
    "**Answer:** "
   ]
  }
 ],
 "metadata": {
  "kernelspec": {
   "display_name": "Python 3 (ipykernel)",
   "language": "python",
   "name": "python3"
  },
  "language_info": {
   "codemirror_mode": {
    "name": "ipython",
    "version": 3
   },
   "file_extension": ".py",
   "mimetype": "text/x-python",
   "name": "python",
   "nbconvert_exporter": "python",
   "pygments_lexer": "ipython3",
   "version": "3.10.11"
  }
 },
 "nbformat": 4,
 "nbformat_minor": 5
}
